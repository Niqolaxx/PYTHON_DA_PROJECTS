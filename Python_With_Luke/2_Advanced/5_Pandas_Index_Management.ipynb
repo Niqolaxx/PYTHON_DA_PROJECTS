{
 "cells": [
  {
   "cell_type": "code",
   "execution_count": 19,
   "id": "fbcc57ff",
   "metadata": {},
   "outputs": [],
   "source": [
    "# Importing Libraries\n",
    "import pandas as pd\n",
    "from datasets import load_dataset\n",
    "import matplotlib.pyplot as plt\n",
    "\n",
    "# Loading Data\n",
    "dataset = load_dataset('lukebarousse/data_jobs')\n",
    "df = dataset['train'].to_pandas()\n",
    "\n",
    "# Data Cleanup\n",
    "df['job_posted_date'] = pd.to_datetime(df['job_posted_date'])"
   ]
  },
  {
   "cell_type": "markdown",
   "id": "8fa1f23d",
   "metadata": {},
   "source": [
    "## Sorting our the index of our dataframe --- df.index"
   ]
  },
  {
   "cell_type": "code",
   "execution_count": 20,
   "id": "649fbc05",
   "metadata": {},
   "outputs": [
    {
     "data": {
      "text/plain": [
       "RangeIndex(start=0, stop=785741, step=1)"
      ]
     },
     "execution_count": 20,
     "metadata": {},
     "output_type": "execute_result"
    }
   ],
   "source": [
    "df.index           ## shows the range of our index"
   ]
  },
  {
   "cell_type": "code",
   "execution_count": 21,
   "id": "3fffb2a9",
   "metadata": {},
   "outputs": [],
   "source": [
    "df.index.name   ## to check the name of our index attribute. in this case, there's none"
   ]
  },
  {
   "cell_type": "code",
   "execution_count": 22,
   "id": "71298152",
   "metadata": {},
   "outputs": [],
   "source": [
    "df.index.name = 'job_index'"
   ]
  },
  {
   "cell_type": "code",
   "execution_count": 23,
   "id": "0624a47e",
   "metadata": {},
   "outputs": [
    {
     "data": {
      "text/html": [
       "<div>\n",
       "<style scoped>\n",
       "    .dataframe tbody tr th:only-of-type {\n",
       "        vertical-align: middle;\n",
       "    }\n",
       "\n",
       "    .dataframe tbody tr th {\n",
       "        vertical-align: top;\n",
       "    }\n",
       "\n",
       "    .dataframe thead th {\n",
       "        text-align: right;\n",
       "    }\n",
       "</style>\n",
       "<table border=\"1\" class=\"dataframe\">\n",
       "  <thead>\n",
       "    <tr style=\"text-align: right;\">\n",
       "      <th></th>\n",
       "      <th>job_title_short</th>\n",
       "      <th>job_title</th>\n",
       "      <th>job_location</th>\n",
       "      <th>job_via</th>\n",
       "      <th>job_schedule_type</th>\n",
       "      <th>job_work_from_home</th>\n",
       "      <th>search_location</th>\n",
       "      <th>job_posted_date</th>\n",
       "      <th>job_no_degree_mention</th>\n",
       "      <th>job_health_insurance</th>\n",
       "      <th>job_country</th>\n",
       "      <th>salary_rate</th>\n",
       "      <th>salary_year_avg</th>\n",
       "      <th>salary_hour_avg</th>\n",
       "      <th>company_name</th>\n",
       "      <th>job_skills</th>\n",
       "      <th>job_type_skills</th>\n",
       "    </tr>\n",
       "    <tr>\n",
       "      <th>job_index</th>\n",
       "      <th></th>\n",
       "      <th></th>\n",
       "      <th></th>\n",
       "      <th></th>\n",
       "      <th></th>\n",
       "      <th></th>\n",
       "      <th></th>\n",
       "      <th></th>\n",
       "      <th></th>\n",
       "      <th></th>\n",
       "      <th></th>\n",
       "      <th></th>\n",
       "      <th></th>\n",
       "      <th></th>\n",
       "      <th></th>\n",
       "      <th></th>\n",
       "      <th></th>\n",
       "    </tr>\n",
       "  </thead>\n",
       "  <tbody>\n",
       "    <tr>\n",
       "      <th>0</th>\n",
       "      <td>Senior Data Engineer</td>\n",
       "      <td>Senior Clinical Data Engineer / Principal Clin...</td>\n",
       "      <td>Watertown, CT</td>\n",
       "      <td>via Work Nearby</td>\n",
       "      <td>Full-time</td>\n",
       "      <td>False</td>\n",
       "      <td>Texas, United States</td>\n",
       "      <td>2023-06-16 13:44:15</td>\n",
       "      <td>False</td>\n",
       "      <td>False</td>\n",
       "      <td>United States</td>\n",
       "      <td>None</td>\n",
       "      <td>NaN</td>\n",
       "      <td>NaN</td>\n",
       "      <td>Boehringer Ingelheim</td>\n",
       "      <td>None</td>\n",
       "      <td>None</td>\n",
       "    </tr>\n",
       "    <tr>\n",
       "      <th>1</th>\n",
       "      <td>Data Analyst</td>\n",
       "      <td>Data Analyst</td>\n",
       "      <td>Guadalajara, Jalisco, Mexico</td>\n",
       "      <td>via BeBee México</td>\n",
       "      <td>Full-time</td>\n",
       "      <td>False</td>\n",
       "      <td>Mexico</td>\n",
       "      <td>2023-01-14 13:18:07</td>\n",
       "      <td>False</td>\n",
       "      <td>False</td>\n",
       "      <td>Mexico</td>\n",
       "      <td>None</td>\n",
       "      <td>NaN</td>\n",
       "      <td>NaN</td>\n",
       "      <td>Hewlett Packard Enterprise</td>\n",
       "      <td>['r', 'python', 'sql', 'nosql', 'power bi', 't...</td>\n",
       "      <td>{'analyst_tools': ['power bi', 'tableau'], 'pr...</td>\n",
       "    </tr>\n",
       "    <tr>\n",
       "      <th>2</th>\n",
       "      <td>Data Engineer</td>\n",
       "      <td>Data Engineer/Scientist/Analyst, Mid or Senior...</td>\n",
       "      <td>Berlin, Germany</td>\n",
       "      <td>via LinkedIn</td>\n",
       "      <td>Full-time</td>\n",
       "      <td>False</td>\n",
       "      <td>Germany</td>\n",
       "      <td>2023-10-10 13:14:55</td>\n",
       "      <td>False</td>\n",
       "      <td>False</td>\n",
       "      <td>Germany</td>\n",
       "      <td>None</td>\n",
       "      <td>NaN</td>\n",
       "      <td>NaN</td>\n",
       "      <td>ALPHA Augmented Services</td>\n",
       "      <td>['python', 'sql', 'c#', 'azure', 'airflow', 'd...</td>\n",
       "      <td>{'analyst_tools': ['dax'], 'cloud': ['azure'],...</td>\n",
       "    </tr>\n",
       "    <tr>\n",
       "      <th>3</th>\n",
       "      <td>Data Engineer</td>\n",
       "      <td>LEAD ENGINEER - PRINCIPAL ANALYST - PRINCIPAL ...</td>\n",
       "      <td>San Antonio, TX</td>\n",
       "      <td>via Diversity.com</td>\n",
       "      <td>Full-time</td>\n",
       "      <td>False</td>\n",
       "      <td>Texas, United States</td>\n",
       "      <td>2023-07-04 13:01:41</td>\n",
       "      <td>True</td>\n",
       "      <td>False</td>\n",
       "      <td>United States</td>\n",
       "      <td>None</td>\n",
       "      <td>NaN</td>\n",
       "      <td>NaN</td>\n",
       "      <td>Southwest Research Institute</td>\n",
       "      <td>['python', 'c++', 'java', 'matlab', 'aws', 'te...</td>\n",
       "      <td>{'cloud': ['aws'], 'libraries': ['tensorflow',...</td>\n",
       "    </tr>\n",
       "    <tr>\n",
       "      <th>4</th>\n",
       "      <td>Data Engineer</td>\n",
       "      <td>Data Engineer- Sr Jobs</td>\n",
       "      <td>Washington, DC</td>\n",
       "      <td>via Clearance Jobs</td>\n",
       "      <td>Full-time</td>\n",
       "      <td>False</td>\n",
       "      <td>Sudan</td>\n",
       "      <td>2023-08-07 14:29:36</td>\n",
       "      <td>False</td>\n",
       "      <td>False</td>\n",
       "      <td>Sudan</td>\n",
       "      <td>None</td>\n",
       "      <td>NaN</td>\n",
       "      <td>NaN</td>\n",
       "      <td>Kristina Daniel</td>\n",
       "      <td>['bash', 'python', 'oracle', 'aws', 'ansible',...</td>\n",
       "      <td>{'cloud': ['oracle', 'aws'], 'other': ['ansibl...</td>\n",
       "    </tr>\n",
       "  </tbody>\n",
       "</table>\n",
       "</div>"
      ],
      "text/plain": [
       "                job_title_short  \\\n",
       "job_index                         \n",
       "0          Senior Data Engineer   \n",
       "1                  Data Analyst   \n",
       "2                 Data Engineer   \n",
       "3                 Data Engineer   \n",
       "4                 Data Engineer   \n",
       "\n",
       "                                                   job_title  \\\n",
       "job_index                                                      \n",
       "0          Senior Clinical Data Engineer / Principal Clin...   \n",
       "1                                               Data Analyst   \n",
       "2          Data Engineer/Scientist/Analyst, Mid or Senior...   \n",
       "3          LEAD ENGINEER - PRINCIPAL ANALYST - PRINCIPAL ...   \n",
       "4                                     Data Engineer- Sr Jobs   \n",
       "\n",
       "                           job_location             job_via job_schedule_type  \\\n",
       "job_index                                                                       \n",
       "0                         Watertown, CT     via Work Nearby         Full-time   \n",
       "1          Guadalajara, Jalisco, Mexico    via BeBee México         Full-time   \n",
       "2                       Berlin, Germany        via LinkedIn         Full-time   \n",
       "3                       San Antonio, TX   via Diversity.com         Full-time   \n",
       "4                        Washington, DC  via Clearance Jobs         Full-time   \n",
       "\n",
       "           job_work_from_home       search_location     job_posted_date  \\\n",
       "job_index                                                                 \n",
       "0                       False  Texas, United States 2023-06-16 13:44:15   \n",
       "1                       False                Mexico 2023-01-14 13:18:07   \n",
       "2                       False               Germany 2023-10-10 13:14:55   \n",
       "3                       False  Texas, United States 2023-07-04 13:01:41   \n",
       "4                       False                 Sudan 2023-08-07 14:29:36   \n",
       "\n",
       "           job_no_degree_mention  job_health_insurance    job_country  \\\n",
       "job_index                                                               \n",
       "0                          False                 False  United States   \n",
       "1                          False                 False         Mexico   \n",
       "2                          False                 False        Germany   \n",
       "3                           True                 False  United States   \n",
       "4                          False                 False          Sudan   \n",
       "\n",
       "          salary_rate  salary_year_avg  salary_hour_avg  \\\n",
       "job_index                                                 \n",
       "0                None              NaN              NaN   \n",
       "1                None              NaN              NaN   \n",
       "2                None              NaN              NaN   \n",
       "3                None              NaN              NaN   \n",
       "4                None              NaN              NaN   \n",
       "\n",
       "                           company_name  \\\n",
       "job_index                                 \n",
       "0                  Boehringer Ingelheim   \n",
       "1            Hewlett Packard Enterprise   \n",
       "2              ALPHA Augmented Services   \n",
       "3          Southwest Research Institute   \n",
       "4                       Kristina Daniel   \n",
       "\n",
       "                                                  job_skills  \\\n",
       "job_index                                                      \n",
       "0                                                       None   \n",
       "1          ['r', 'python', 'sql', 'nosql', 'power bi', 't...   \n",
       "2          ['python', 'sql', 'c#', 'azure', 'airflow', 'd...   \n",
       "3          ['python', 'c++', 'java', 'matlab', 'aws', 'te...   \n",
       "4          ['bash', 'python', 'oracle', 'aws', 'ansible',...   \n",
       "\n",
       "                                             job_type_skills  \n",
       "job_index                                                     \n",
       "0                                                       None  \n",
       "1          {'analyst_tools': ['power bi', 'tableau'], 'pr...  \n",
       "2          {'analyst_tools': ['dax'], 'cloud': ['azure'],...  \n",
       "3          {'cloud': ['aws'], 'libraries': ['tensorflow',...  \n",
       "4          {'cloud': ['oracle', 'aws'], 'other': ['ansibl...  "
      ]
     },
     "execution_count": 23,
     "metadata": {},
     "output_type": "execute_result"
    }
   ],
   "source": [
    "df.head(5)"
   ]
  },
  {
   "cell_type": "code",
   "execution_count": 24,
   "id": "6169c5f5",
   "metadata": {},
   "outputs": [
    {
     "data": {
      "text/plain": [
       "dtype('int64')"
      ]
     },
     "execution_count": 24,
     "metadata": {},
     "output_type": "execute_result"
    }
   ],
   "source": [
    "df.index.dtype     ## to check the data type for the index"
   ]
  },
  {
   "cell_type": "markdown",
   "id": "bd8cfa39",
   "metadata": {},
   "source": [
    "1. reset index -- when we filter our data frame for example, the index might get messy and not orderly. so we use reset index to fix this ------\n",
    "df.reset_index(inplace=True)"
   ]
  },
  {
   "cell_type": "code",
   "execution_count": null,
   "id": "e34ad724",
   "metadata": {},
   "outputs": [],
   "source": [
    "df_usa = df[df['job_country'] == 'United States']\n",
    "\n",
    "df_usa                                ## you can see the index is not orderly"
   ]
  },
  {
   "cell_type": "code",
   "execution_count": null,
   "id": "5a4180a6",
   "metadata": {},
   "outputs": [],
   "source": [
    "df_usa.reset_index(inplace=True)\n",
    "\n",
    "df_usa"
   ]
  },
  {
   "cell_type": "markdown",
   "id": "f75e6339",
   "metadata": {},
   "source": [
    "2. Set Index -- you can set a column as an index using the column name. you might lose data doing this, as it drops the previous index to set the new"
   ]
  },
  {
   "cell_type": "code",
   "execution_count": null,
   "id": "5aeea4b6",
   "metadata": {},
   "outputs": [],
   "source": [
    "df_usa.set_index('job_index', inplace=True)\n",
    "\n",
    "df_usa"
   ]
  },
  {
   "cell_type": "markdown",
   "id": "1e22bded",
   "metadata": {},
   "source": [
    "3. Assuming you have a dataframe with strings as the index, or you have done a pivot on your dataframe, you can then use the sort index function to sort this out. \n",
    "In that case, it sorts the index in alphabetic order, whether ascending or descending order."
   ]
  },
  {
   "cell_type": "code",
   "execution_count": null,
   "id": "d81393f5",
   "metadata": {},
   "outputs": [],
   "source": [
    "df_usa.sort_index()"
   ]
  },
  {
   "cell_type": "code",
   "execution_count": null,
   "id": "c65caef4",
   "metadata": {},
   "outputs": [],
   "source": []
  }
 ],
 "metadata": {
  "kernelspec": {
   "display_name": "luke_python_course",
   "language": "python",
   "name": "python3"
  },
  "language_info": {
   "codemirror_mode": {
    "name": "ipython",
    "version": 3
   },
   "file_extension": ".py",
   "mimetype": "text/x-python",
   "name": "python",
   "nbconvert_exporter": "python",
   "pygments_lexer": "ipython3",
   "version": "3.13.5"
  }
 },
 "nbformat": 4,
 "nbformat_minor": 5
}
